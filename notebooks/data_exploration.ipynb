{
 "cells": [
  {
   "cell_type": "markdown",
   "metadata": {},
   "source": [
    "STEP - 1: DATA EXPLORATION AND SETUP"
   ]
  },
  {
   "cell_type": "code",
   "execution_count": 17,
   "metadata": {},
   "outputs": [],
   "source": [
    "\n",
    "# Load all required Libraries\n",
    "import pandas as pd\n",
    "import transformers, torch\n",
    "from transformers import AutoModelForSeq2SeqLM, AutoTokenizer, AutoModelForCausalLM\n",
    "from datasets import Dataset\n",
    "\n",
    "import faiss\n",
    "import numpy as np"
   ]
  },
  {
   "cell_type": "code",
   "execution_count": 3,
   "metadata": {},
   "outputs": [
    {
     "name": "stdout",
     "output_type": "stream",
     "text": [
      "(3200, 1)\n"
     ]
    },
    {
     "data": {
      "text/html": [
       "<div>\n",
       "<style scoped>\n",
       "    .dataframe tbody tr th:only-of-type {\n",
       "        vertical-align: middle;\n",
       "    }\n",
       "\n",
       "    .dataframe tbody tr th {\n",
       "        vertical-align: top;\n",
       "    }\n",
       "\n",
       "    .dataframe thead th {\n",
       "        text-align: right;\n",
       "    }\n",
       "</style>\n",
       "<table border=\"1\" class=\"dataframe\">\n",
       "  <thead>\n",
       "    <tr style=\"text-align: right;\">\n",
       "      <th></th>\n",
       "      <th>passage</th>\n",
       "    </tr>\n",
       "    <tr>\n",
       "      <th>id</th>\n",
       "      <th></th>\n",
       "    </tr>\n",
       "  </thead>\n",
       "  <tbody>\n",
       "    <tr>\n",
       "      <th>0</th>\n",
       "      <td>Uruguay (official full name in  ; pron.  , Eas...</td>\n",
       "    </tr>\n",
       "    <tr>\n",
       "      <th>1</th>\n",
       "      <td>It is bordered by Brazil to the north, by Arge...</td>\n",
       "    </tr>\n",
       "    <tr>\n",
       "      <th>2</th>\n",
       "      <td>Montevideo was founded by the Spanish in the e...</td>\n",
       "    </tr>\n",
       "    <tr>\n",
       "      <th>3</th>\n",
       "      <td>The economy is largely based in agriculture (m...</td>\n",
       "    </tr>\n",
       "    <tr>\n",
       "      <th>4</th>\n",
       "      <td>According to Transparency International, Urugu...</td>\n",
       "    </tr>\n",
       "  </tbody>\n",
       "</table>\n",
       "</div>"
      ],
      "text/plain": [
       "                                              passage\n",
       "id                                                   \n",
       "0   Uruguay (official full name in  ; pron.  , Eas...\n",
       "1   It is bordered by Brazil to the north, by Arge...\n",
       "2   Montevideo was founded by the Spanish in the e...\n",
       "3   The economy is largely based in agriculture (m...\n",
       "4   According to Transparency International, Urugu..."
      ]
     },
     "execution_count": 3,
     "metadata": {},
     "output_type": "execute_result"
    }
   ],
   "source": [
    "passages = pd.read_parquet(\"hf://datasets/rag-datasets/rag-mini-wikipedia/data/passages.parquet/part.0.parquet\")\n",
    "\n",
    "print(passages.shape)\n",
    "passages.head()"
   ]
  },
  {
   "cell_type": "markdown",
   "metadata": {},
   "source": [
    "# EDA on the passage dataset\n",
    "- Check for missing values\n",
    "- Check for Duplicates\n",
    "- Max and min length of passages"
   ]
  },
  {
   "cell_type": "code",
   "execution_count": 4,
   "metadata": {},
   "outputs": [
    {
     "name": "stdout",
     "output_type": "stream",
     "text": [
      "Shape: (3200, 1)\n",
      "\n",
      "Columns: ['passage']\n",
      "\n",
      "First sample:\n",
      " Uruguay (official full name in  ; pron.  , Eastern Republic of  Uruguay) is a country located in the southeastern part of South America.  It is home to 3.3 million people, of which 1.7 million live in the capital Montevideo and its metropolitan area.\n"
     ]
    }
   ],
   "source": [
    "# Printing basic information\n",
    "print(\"Shape:\", passages.shape)\n",
    "print(\"\\nColumns:\", passages.columns.tolist())\n",
    "print(\"\\nFirst sample:\\n\", passages.iloc[0][\"passage\"])"
   ]
  },
  {
   "cell_type": "code",
   "execution_count": 5,
   "metadata": {},
   "outputs": [
    {
     "name": "stdout",
     "output_type": "stream",
     "text": [
      "\n",
      "Missing values:\n",
      " passage    0\n",
      "dtype: int64\n"
     ]
    }
   ],
   "source": [
    "# Checking for Missing values\n",
    "print(\"\\nMissing values:\\n\", passages.isna().sum())"
   ]
  },
  {
   "cell_type": "code",
   "execution_count": 6,
   "metadata": {},
   "outputs": [
    {
     "name": "stdout",
     "output_type": "stream",
     "text": [
      "(3200, 1)\n",
      "\n",
      "Duplicate passages: 4\n",
      "New shape after dropping duplicates: (3196, 1)\n"
     ]
    }
   ],
   "source": [
    "print(passages.shape)\n",
    "# Checking for Duplicates\n",
    "duplicate_count = passages.duplicated(subset=[\"passage\"]).sum()\n",
    "print(\"\\nDuplicate passages:\", duplicate_count)\n",
    "\n",
    "#Removing duplicates\n",
    "passages = passages.drop_duplicates(subset=[\"passage\"])\n",
    "print(\"New shape after dropping duplicates:\", passages.shape)"
   ]
  },
  {
   "cell_type": "code",
   "execution_count": 7,
   "metadata": {},
   "outputs": [
    {
     "name": "stdout",
     "output_type": "stream",
     "text": [
      "\n",
      "Passage length stats:\n",
      " count    3196.000000\n",
      "mean       62.175219\n",
      "std        55.419487\n",
      "min         1.000000\n",
      "25%        17.000000\n",
      "50%        48.000000\n",
      "75%        92.000000\n",
      "max       425.000000\n",
      "Name: len_tokens, dtype: float64\n"
     ]
    }
   ],
   "source": [
    "# Calculating length of passages\n",
    "passages[\"len_tokens\"] = passages[\"passage\"].str.split().str.len()\n",
    "\n",
    "print(\"\\nPassage length stats:\\n\", passages[\"len_tokens\"].describe())"
   ]
  },
  {
   "cell_type": "code",
   "execution_count": 10,
   "metadata": {},
   "outputs": [
    {
     "name": "stdout",
     "output_type": "stream",
     "text": [
      "\n",
      "Shortest passage:\n",
      " 125px\n",
      "\n",
      "Longest passage:\n",
      " As Ford approached his ninetieth year, he began to experience significant health problems associated with old age. He suffered two minor strokes at the 2000 Republican National Convention, but made a quick recovery.  Gerald Ford recovering after strokes. BBC, August 2, 2000.  Retrieved on December 31, 2006.  In January 2006, he spent 11 days at the Eisenhower Medical Center near his residence at Rancho Mirage, California, for treatment of pneumonia.  Former President Ford, 92, hospitalized with pneumonia. Associated Press, January 17, 2006. Retrieved on October 19, 2007.  On April 23, President George W. Bush visited Ford at his home in Rancho Mirage for a little over an hour. This was Ford's last public appearance and produced the last known public photos, video footage and voice recording. While vacationing in Vail, Colorado, he was hospitalized for two days in July, 2006 for shortness of breath.  Gerald Ford released from hospital. Associated Press, July 26, 2006. Retrieved on December 31, 2006.  On August 15 Ford was admitted to St. Mary's Hospital of the Mayo Clinic in Rochester, Minnesota for testing and evaluation. On August 21, it was reported that he had been fitted with a pacemaker. On August 25, he underwent an angioplasty procedure at the Mayo Clinic, according to a statement from an assistant to Ford. On August 28, Ford was released from the hospital and returned with his wife Betty to their California home. On October 13, he was scheduled to attend the dedication of a building of his namesake, the Gerald R. Ford School of Public Policy, but due to poor health and on the advice of his doctors he did not attend, much to his personal disappointment. The previous day, on October 12, however, Ford entered the hospital yet again for undisclosed tests at the Eisenhower Medical Center;  Former President Ford in hospital for tests. Associated Press via CNN  he was released on October 16. As a result of his frail health it was announced on October 17 that Ford was considering selling his home near Vail due to the uncertainty as to whether he would be able to return. Those that saw him during the last five months of his life said that he looked frailer than ever and that it appeared his body was slowly failing him, and by November 2006 he was confined to a hospital bed in his study.  CNN Transcript December 26, 2006 11:00PM CST  On November 12, 2006 upon surpassing Ronald Reagan to become the longest lived president in US history he released his last public statement:\n"
     ]
    }
   ],
   "source": [
    "print(\"\\nShortest passage:\\n\", passages.loc[passages[\"len_tokens\"].idxmin(), \"passage\"])\n",
    "print(\"\\nLongest passage:\\n\", passages.loc[passages[\"len_tokens\"].idxmax(), \"passage\"])"
   ]
  },
  {
   "cell_type": "code",
   "execution_count": 8,
   "metadata": {},
   "outputs": [
    {
     "name": "stderr",
     "output_type": "stream",
     "text": [
      "Matplotlib is building the font cache; this may take a moment.\n"
     ]
    },
    {
     "data": {
      "image/png": "[encoded data removed]",
      "text/plain": [
       "<Figure size 800x500 with 1 Axes>"
      ]
     },
     "metadata": {},
     "output_type": "display_data"
    }
   ],
   "source": [
    "# Plotting histogram of passage lengths\n",
    "\n",
    "import matplotlib.pyplot as plt\n",
    "plt.figure(figsize=(8,5))\n",
    "plt.hist(passages[\"len_tokens\"], bins=50, color=\"skyblue\", edgecolor=\"black\")\n",
    "plt.title(\"Distribution of Passage Lengths (in words)\")\n",
    "plt.xlabel(\"Number of words\")\n",
    "plt.ylabel(\"Frequency\")\n",
    "plt.show()"
   ]
  },
  {
   "cell_type": "code",
   "execution_count": null,
   "metadata": {},
   "outputs": [
    {
     "name": "stdout",
     "output_type": "stream",
     "text": [
      "Saved cleaned passages to data/processed/passages_clean.parquet\n"
     ]
    }
   ],
   "source": [
    "# Save cleaned passages\n",
    "passages.to_parquet(\"../data/processed/passages_clean.parquet\", index=False)\n",
    "print(\"Saved cleaned passages to data/processed/passages_clean.parquet\")"
   ]
  },
  {
   "cell_type": "markdown",
   "metadata": {},
   "source": [
    "# Basic analysis of the test data"
   ]
  },
  {
   "cell_type": "code",
   "execution_count": 12,
   "metadata": {},
   "outputs": [],
   "source": [
    "df_test = pd.read_parquet(\"hf://datasets/rag-datasets/rag-mini-wikipedia/data/test.parquet/part.0.parquet\").dropna(subset=[\"question\", \"answer\"])\n",
    "df_test = df_test.reset_index(drop=True)"
   ]
  },
  {
   "cell_type": "code",
   "execution_count": 13,
   "metadata": {},
   "outputs": [
    {
     "data": {
      "text/html": [
       "<div>\n",
       "<style scoped>\n",
       "    .dataframe tbody tr th:only-of-type {\n",
       "        vertical-align: middle;\n",
       "    }\n",
       "\n",
       "    .dataframe tbody tr th {\n",
       "        vertical-align: top;\n",
       "    }\n",
       "\n",
       "    .dataframe thead th {\n",
       "        text-align: right;\n",
       "    }\n",
       "</style>\n",
       "<table border=\"1\" class=\"dataframe\">\n",
       "  <thead>\n",
       "    <tr style=\"text-align: right;\">\n",
       "      <th></th>\n",
       "      <th>question</th>\n",
       "      <th>answer</th>\n",
       "    </tr>\n",
       "  </thead>\n",
       "  <tbody>\n",
       "    <tr>\n",
       "      <th>0</th>\n",
       "      <td>Was Abraham Lincoln the sixteenth President of...</td>\n",
       "      <td>yes</td>\n",
       "    </tr>\n",
       "    <tr>\n",
       "      <th>1</th>\n",
       "      <td>Did Lincoln sign the National Banking Act of 1...</td>\n",
       "      <td>yes</td>\n",
       "    </tr>\n",
       "    <tr>\n",
       "      <th>2</th>\n",
       "      <td>Did his mother die of pneumonia?</td>\n",
       "      <td>no</td>\n",
       "    </tr>\n",
       "    <tr>\n",
       "      <th>3</th>\n",
       "      <td>How many long was Lincoln's formal education?</td>\n",
       "      <td>18 months</td>\n",
       "    </tr>\n",
       "    <tr>\n",
       "      <th>4</th>\n",
       "      <td>When did Lincoln begin his political career?</td>\n",
       "      <td>1832</td>\n",
       "    </tr>\n",
       "  </tbody>\n",
       "</table>\n",
       "</div>"
      ],
      "text/plain": [
       "                                            question     answer\n",
       "0  Was Abraham Lincoln the sixteenth President of...        yes\n",
       "1  Did Lincoln sign the National Banking Act of 1...        yes\n",
       "2                   Did his mother die of pneumonia?         no\n",
       "3      How many long was Lincoln's formal education?  18 months\n",
       "4       When did Lincoln begin his political career?       1832"
      ]
     },
     "execution_count": 13,
     "metadata": {},
     "output_type": "execute_result"
    }
   ],
   "source": [
    "df_test.head()"
   ]
  },
  {
   "cell_type": "code",
   "execution_count": null,
   "metadata": {},
   "outputs": [
    {
     "name": "stdout",
     "output_type": "stream",
     "text": [
      "\\Answer length stats:\n",
      " count    918.000000\n",
      "mean       3.377996\n",
      "std        5.511942\n",
      "min        1.000000\n",
      "25%        1.000000\n",
      "50%        1.000000\n",
      "75%        4.000000\n",
      "max       65.000000\n",
      "Name: len_tokens, dtype: float64\n"
     ]
    }
   ],
   "source": [
    "# Calculating length of answers\n",
    "df_test[\"len_tokens\"] = df_test[\"answer\"].str.split().str.len()\n",
    "\n",
    "print(\"\\Answer length stats:\\n\", df_test[\"len_tokens\"].describe())"
   ]
  },
  {
   "cell_type": "code",
   "execution_count": null,
   "metadata": {},
   "outputs": [
    {
     "name": "stdout",
     "output_type": "stream",
     "text": [
      "\n",
      "Shortest passage:\n",
      " yes\n",
      "\n",
      "Longest passage:\n",
      " Howling helps pack members keep in touch, allowing them to communicate effectively in thickly forested areas or over great distances. Howling also helps to call pack members to a specific location. Howling can also serve as a declaration of territory, as shown in a dominant wolf&apos;s tendency to respond to a human imitation of a \"rival\" wolf in an area the wolf considers its own. \n"
     ]
    }
   ],
   "source": [
    "#Printing shortest and longest answers\n",
    "print(\"\\nShortest passage:\\n\", df_test.loc[df_test[\"len_tokens\"].idxmin(), \"answer\"])\n",
    "print(\"\\nLongest passage:\\n\", df_test.loc[df_test[\"len_tokens\"].idxmax(), \"answer\"])"
   ]
  },
  {
   "cell_type": "code",
   "execution_count": 9,
   "metadata": {},
   "outputs": [
    {
     "data": {
      "text/plain": [
       "<bound method NDFrame.describe of                                               question  \\\n",
       "0    Was Abraham Lincoln the sixteenth President of...   \n",
       "1    Did Lincoln sign the National Banking Act of 1...   \n",
       "2                     Did his mother die of pneumonia?   \n",
       "3        How many long was Lincoln's formal education?   \n",
       "4         When did Lincoln begin his political career?   \n",
       "..                                                 ...   \n",
       "913  Was Wilson president of the American Political...   \n",
       "914  Did he not cast his ballot for John M. Palmer ...   \n",
       "915  Did Wilson not spend 1914 through the beginnin...   \n",
       "916  Was Wilson , a staunch opponent of antisemitis...   \n",
       "917                             What happened in 1917?   \n",
       "\n",
       "                                                answer  \n",
       "0                                                  yes  \n",
       "1                                                  yes  \n",
       "2                                                   no  \n",
       "3                                            18 months  \n",
       "4                                                 1832  \n",
       "..                                                 ...  \n",
       "913                                                Yes  \n",
       "914                                                Yes  \n",
       "915                                                Yes  \n",
       "916                                                Yes  \n",
       "917  raised billions through Liberty loans, imposed...  \n",
       "\n",
       "[918 rows x 2 columns]>"
      ]
     },
     "execution_count": 9,
     "metadata": {},
     "output_type": "execute_result"
    }
   ],
   "source": [
    "df_test.describe"
   ]
  }
 ],
 "metadata": {
  "kernelspec": {
   "display_name": ".venv",
   "language": "python",
   "name": "python3"
  },
  "language_info": {
   "codemirror_mode": {
    "name": "ipython",
    "version": 3
   },
   "file_extension": ".py",
   "mimetype": "text/x-python",
   "name": "python",
   "nbconvert_exporter": "python",
   "pygments_lexer": "ipython3",
   "version": "3.10.18"
  }
 },
 "nbformat": 4,
 "nbformat_minor": 2
}

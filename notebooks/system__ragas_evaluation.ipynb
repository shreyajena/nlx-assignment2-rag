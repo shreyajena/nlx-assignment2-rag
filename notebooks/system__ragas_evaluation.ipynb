{
 "cells": [
  {
   "cell_type": "code",
   "execution_count": null,
   "metadata": {},
   "outputs": [
    {
     "name": "stderr",
     "output_type": "stream",
     "text": [
      "/Users/shreyajena/Desktop/NLX and LLMs/Assignment2_ShreyaJena/nlx-assignment2-rag/.venv/lib/python3.10/site-packages/tqdm/auto.py:21: TqdmWarning: IProgress not found. Please update jupyter and ipywidgets. See https://ipywidgets.readthedocs.io/en/stable/user_install.html\n",
      "  from .autonotebook import tqdm as notebook_tqdm\n"
     ]
    }
   ],
   "source": [
    "import os, json\n",
    "import pandas as pd\n",
    "from datasets import Dataset\n",
    "from ragas import evaluate\n",
    "from ragas.metrics import faithfulness, context_precision, context_recall, answer_correctness\n",
    "\n",
    "import sys, os, json\n",
    "sys.path.append(os.path.abspath(\"../src\"))\n",
    "from naive_rag import rag, get_or_build_faiss\n",
    "from enhanced_rag import enhanced_rag\n",
    "import config\n",
    "import pandas as pd\n",
    "\n",
    "\n",
    "os.environ[\"OPENAI_API_KEY\"] = \"API-KEY-HERE\"  # replace with your key"
   ]
  },
  {
   "cell_type": "code",
   "execution_count": null,
   "metadata": {},
   "outputs": [
    {
     "name": "stdout",
     "output_type": "stream",
     "text": [
      "Reloaded FAISS index with 3196 passages\n",
      "Building RAGAs JSON for 100 queries...\n",
      "  Naive: 40/100\n",
      "  Naive: 140/100\n",
      "  Naive: 200/100\n",
      "  Naive: 220/100\n",
      "  Enhanced: 40/100\n",
      "  Enhanced: 140/100\n",
      "  Enhanced: 200/100\n",
      "  Enhanced: 220/100\n",
      "\n",
      "✓ Saved ../results/naive_ragas.json (100 queries)\n",
      "✓ Saved ../results/enhanced_ragas.json (100 queries)\n",
      "\n",
      "Sample naive entry:\n",
      "  Question: Was Abraham Lincoln the sixteenth President of the United States?\n",
      "  Contexts: 1 passages\n",
      "  Answer: yes\n",
      "\n",
      "Sample enhanced entry:\n",
      "  Question: Was Abraham Lincoln the sixteenth President of the United States?\n",
      "  Contexts: 3 passages\n",
      "  Answer: No\n"
     ]
    }
   ],
   "source": [
    "# Setup\n",
    "config.PASSAGES_PATH = \"../data/processed/passages_clean.parquet\"\n",
    "schema, index, embedder = get_or_build_faiss(config.PASSAGES_PATH, config.EMBED_MODEL)\n",
    "\n",
    "# Load queries\n",
    "queries = pd.read_parquet(\n",
    "    \"hf://datasets/rag-datasets/rag-mini-wikipedia/data/test.parquet/part.0.parquet\"\n",
    ").dropna(subset=[\"question\", \"answer\"])\n",
    "queries = queries.head(100)\n",
    "\n",
    "print(f\"Building RAGAs JSON for {len(queries)} queries...\")\n",
    "\n",
    "# Build NAIVE RAGAs data\n",
    "naive_data = []\n",
    "for idx, row in queries.iterrows():\n",
    "    q = row[\"question\"]\n",
    "    gold = row[\"answer\"]\n",
    "    \n",
    "    # Get contexts and answer from naive RAG\n",
    "    contexts_naive, naive_answer = rag(\n",
    "        q, schema, index, embedder, \n",
    "        k=1, style=\"basic\", return_contexts=True\n",
    "    )\n",
    "    \n",
    "    naive_data.append({\n",
    "        \"question\": q,\n",
    "        \"answer\": naive_answer,\n",
    "        \"contexts\": contexts_naive,  # List with 1 passage\n",
    "        \"ground_truth\": str(gold)\n",
    "    })\n",
    "    \n",
    "    if (idx + 1) % 20 == 0:\n",
    "        print(f\"  Naive: {idx + 1}/{len(queries)}\")\n",
    "\n",
    "# Build ENHANCED RAGAs data\n",
    "enhanced_data = []\n",
    "for idx, row in queries.iterrows():\n",
    "    q = row[\"question\"]\n",
    "    gold = row[\"answer\"]\n",
    "    \n",
    "    # Get reranked contexts and answer from enhanced RAG\n",
    "    contexts_enhanced, enhanced_answer = enhanced_rag(\n",
    "        q, schema, index, embedder, \n",
    "        k=3, return_contexts=True\n",
    "    )\n",
    "    \n",
    "    enhanced_data.append({\n",
    "        \"question\": q,\n",
    "        \"answer\": enhanced_answer,\n",
    "        \"contexts\": contexts_enhanced,  # List with 3 reranked passages\n",
    "        \"ground_truth\": str(gold)\n",
    "    })\n",
    "    \n",
    "    if (idx + 1) % 20 == 0:\n",
    "        print(f\"  Enhanced: {idx + 1}/{len(queries)}\")\n",
    "\n",
    "# Save to JSON\n",
    "os.makedirs(\"../results\", exist_ok=True)\n",
    "\n",
    "with open(\"../results/naive_ragas.json\", \"w\") as f:\n",
    "    json.dump(naive_data, f, indent=2)\n",
    "\n",
    "with open(\"../results/enhanced_ragas.json\", \"w\") as f:\n",
    "    json.dump(enhanced_data, f, indent=2)\n",
    "\n",
    "print(f\"\\n✓ Saved ../results/naive_ragas.json ({len(naive_data)} queries)\")\n",
    "print(f\"✓ Saved ../results/enhanced_ragas.json ({len(enhanced_data)} queries)\")\n",
    "\n",
    "# Quick validation\n",
    "print(\"\\nSample naive entry:\")\n",
    "print(f\"  Question: {naive_data[0]['question']}\")\n",
    "print(f\"  Contexts: {len(naive_data[0]['contexts'])} passages\")\n",
    "print(f\"  Answer: {naive_data[0]['answer']}\")\n",
    "\n",
    "print(\"\\nSample enhanced entry:\")\n",
    "print(f\"  Question: {enhanced_data[0]['question']}\")\n",
    "print(f\"  Contexts: {len(enhanced_data[0]['contexts'])} passages\")\n",
    "print(f\"  Answer: {enhanced_data[0]['answer']}\")"
   ]
  },
  {
   "cell_type": "code",
   "execution_count": 4,
   "metadata": {},
   "outputs": [
    {
     "name": "stdout",
     "output_type": "stream",
     "text": [
      "🔹 Running RAGAs on Naive RAG...\n"
     ]
    },
    {
     "name": "stderr",
     "output_type": "stream",
     "text": [
      "Evaluating: 100%|██████████| 400/400 [05:54<00:00,  1.13it/s]\n"
     ]
    },
    {
     "name": "stdout",
     "output_type": "stream",
     "text": [
      "\n",
      "🔹 Running RAGAs on Enhanced RAG...\n"
     ]
    },
    {
     "name": "stderr",
     "output_type": "stream",
     "text": [
      "Evaluating: 100%|██████████| 400/400 [06:42<00:00,  1.01s/it]\n"
     ]
    },
    {
     "name": "stdout",
     "output_type": "stream",
     "text": [
      "\n",
      "===== RAGAs Evaluation Results =====\n",
      "Naive: {'faithfulness': 0.5354, 'context_precision': 0.5900, 'context_recall': 0.4800, 'answer_correctness': 0.6883}\n",
      "Enhanced: {'faithfulness': 0.6255, 'context_precision': 0.6850, 'context_recall': 0.5500, 'answer_correctness': 0.5213}\n"
     ]
    }
   ],
   "source": [
    "\n",
    "# Evaluate both systems with RAGAs\n",
    "def run_ragas_eval(path):\n",
    "    data = json.load(open(path))\n",
    "    ds = Dataset.from_list(data)\n",
    "    results = evaluate(\n",
    "        dataset=ds,\n",
    "        metrics=[faithfulness, context_precision, context_recall, answer_correctness]\n",
    "    )\n",
    "    return results\n",
    "\n",
    "print(\"🔹 Running RAGAs on Naive RAG...\")\n",
    "naive_scores = run_ragas_eval(\"../results/naive_ragas.json\")\n",
    "print(\"\\n🔹 Running RAGAs on Enhanced RAG...\")\n",
    "enhanced_scores = run_ragas_eval(\"../results/enhanced_ragas.json\")\n",
    "\n",
    "print(\"\\n===== RAGAs Evaluation Results =====\")\n",
    "print(\"Naive:\", naive_scores)\n",
    "print(\"Enhanced:\", enhanced_scores)\n"
   ]
  },
  {
   "cell_type": "code",
   "execution_count": null,
   "metadata": {},
   "outputs": [
    {
     "data": {
      "image/png": "[encoded data removed]",
      "text/plain": [
       "<Figure size 800x500 with 1 Axes>"
      ]
     },
     "metadata": {},
     "output_type": "display_data"
    }
   ],
   "source": [
    "import matplotlib.pyplot as plt\n",
    "import pandas as pd\n",
    "\n",
    "# === RAGAs scores ===\n",
    "naive_scores = {\n",
    "    \"faithfulness\": 0.5354,\n",
    "    \"context_precision\": 0.5900,\n",
    "    \"context_recall\": 0.4800,\n",
    "    \"answer_correctness\": 0.6883\n",
    "}\n",
    "\n",
    "enhanced_scores = {\n",
    "    \"faithfulness\": 0.6255,\n",
    "    \"context_precision\": 0.6850,\n",
    "    \"context_recall\": 0.5500,\n",
    "    \"answer_correctness\": 0.5213\n",
    "}\n",
    "\n",
    "# === Build DataFrame ===\n",
    "df = pd.DataFrame([\n",
    "    [\"Naive\", naive_scores[\"faithfulness\"], naive_scores[\"context_precision\"], naive_scores[\"context_recall\"], naive_scores[\"answer_correctness\"]],\n",
    "    [\"Enhanced\", enhanced_scores[\"faithfulness\"], enhanced_scores[\"context_precision\"], enhanced_scores[\"context_recall\"], enhanced_scores[\"answer_correctness\"]],\n",
    "], columns=[\"System\", \"Faithfulness\", \"Context Precision\", \"Context Recall\", \"Answer Correctness\"])\n",
    "\n",
    "# === Plot ===\n",
    "ax = df.set_index(\"System\").plot(\n",
    "    kind=\"bar\",\n",
    "    figsize=(8,5),\n",
    "    ylim=(0,1),\n",
    "    rot=0,\n",
    "    color=[\"#7fc8f8\", \"#f9a620\", \"#00b295\", \"#d81159\"]\n",
    ")\n",
    "\n",
    "plt.title(\"RAGAs Evaluation: Naive vs Enhanced RAG\", fontsize=13, pad=15)\n",
    "plt.ylabel(\"Score\", fontsize=11)\n",
    "plt.xlabel(\"\")\n",
    "plt.legend(title=\"Metrics\", bbox_to_anchor=(1.05, 1), loc=\"upper left\")\n",
    "plt.grid(axis=\"y\", linestyle=\"--\", alpha=0.6)\n",
    "plt.tight_layout()\n",
    "plt.show()\n"
   ]
  }
 ],
 "metadata": {
  "kernelspec": {
   "display_name": ".venv",
   "language": "python",
   "name": "python3"
  },
  "language_info": {
   "codemirror_mode": {
    "name": "ipython",
    "version": 3
   },
   "file_extension": ".py",
   "mimetype": "text/x-python",
   "name": "python",
   "nbconvert_exporter": "python",
   "pygments_lexer": "ipython3",
   "version": "3.10.18"
  }
 },
 "nbformat": 4,
 "nbformat_minor": 2
}
